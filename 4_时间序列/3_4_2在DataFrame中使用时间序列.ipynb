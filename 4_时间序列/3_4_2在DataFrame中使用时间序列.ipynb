{
 "cells": [
  {
   "cell_type": "code",
   "execution_count": 3,
   "metadata": {},
   "outputs": [],
   "source": [
    "import pandas as pd\n",
    "import numpy as np"
   ]
  },
  {
   "cell_type": "code",
   "execution_count": 4,
   "metadata": {},
   "outputs": [],
   "source": [
    "index=pd.date_range(\"20170101\",periods=10)\n",
    "df = pd.DataFrame(np.random.rand(10),index=index)"
   ]
  },
  {
   "cell_type": "code",
   "execution_count": 5,
   "metadata": {},
   "outputs": [
    {
     "name": "stdout",
     "output_type": "stream",
     "text": [
      "                   0\n",
      "2017-01-01  0.053113\n",
      "2017-01-02  0.718212\n",
      "2017-01-03  0.512291\n",
      "2017-01-04  0.811295\n",
      "2017-01-05  0.458735\n",
      "2017-01-06  0.805096\n",
      "2017-01-07  0.492011\n",
      "2017-01-08  0.238393\n",
      "2017-01-09  0.998999\n",
      "2017-01-10  0.377866\n"
     ]
    }
   ],
   "source": [
    "print(df)"
   ]
  },
  {
   "attachments": {},
   "cell_type": "markdown",
   "metadata": {},
   "source": [
    "### 我们可以使用pandas提供的方法把时间字符串转化为时间序列  \n",
    "#### pd.to_datetime()\n",
    "df[\"timeStamp\"] = pd.to_datetime(df[\"timeStamp\"],format=\"\")\n"
   ]
  },
  {
   "attachments": {},
   "cell_type": "markdown",
   "metadata": {},
   "source": [
    "## pandas重采样"
   ]
  },
  {
   "attachments": {},
   "cell_type": "markdown",
   "metadata": {},
   "source": [
    "#### 重采样：指的是将时间序列从一个频率转化为另一个频率进行处理的过程，将高频率数据转化为低频率数据为降采样，低频率转化为高频率为升采样\n"
   ]
  },
  {
   "attachments": {},
   "cell_type": "markdown",
   "metadata": {},
   "source": [
    "#### pandas提供了一个resample的方法来帮助我们实现频率转化\n"
   ]
  },
  {
   "cell_type": "code",
   "execution_count": 8,
   "metadata": {},
   "outputs": [
    {
     "name": "stdout",
     "output_type": "stream",
     "text": [
      "                    0\n",
      "2017-01-01  31.695368\n",
      "2017-01-02  19.587580\n",
      "2017-01-03  30.442553\n",
      "2017-01-04  45.605772\n",
      "2017-01-05  29.379278\n",
      "...               ...\n",
      "2017-04-06  48.539005\n",
      "2017-04-07  28.692945\n",
      "2017-04-08  43.033907\n",
      "2017-04-09  14.484312\n",
      "2017-04-10  26.767515\n",
      "\n",
      "[100 rows x 1 columns]\n"
     ]
    }
   ],
   "source": [
    "t = pd.DataFrame(np.random.uniform(10,50,(100,1)),index = pd.date_range(start='20170101',periods = 100))\n",
    "print(t)"
   ]
  },
  {
   "cell_type": "code",
   "execution_count": 10,
   "metadata": {},
   "outputs": [
    {
     "name": "stdout",
     "output_type": "stream",
     "text": [
      "                    0\n",
      "2017-01-31  31.037233\n",
      "2017-02-28  33.272347\n",
      "2017-03-31  27.617785\n",
      "2017-04-30  28.807299\n"
     ]
    }
   ],
   "source": [
    "print(t.resample('M').mean())"
   ]
  },
  {
   "cell_type": "code",
   "execution_count": 11,
   "metadata": {},
   "outputs": [
    {
     "name": "stdout",
     "output_type": "stream",
     "text": [
      "                    0\n",
      "2017-01-01  34.536724\n",
      "2017-01-11  26.437661\n",
      "2017-01-21  30.746752\n",
      "2017-01-31  34.062046\n",
      "2017-02-10  32.647367\n",
      "2017-02-20  34.338990\n",
      "2017-03-02  27.675879\n",
      "2017-03-12  24.728605\n",
      "2017-03-22  29.819101\n",
      "2017-04-01  28.807299\n"
     ]
    }
   ],
   "source": [
    "print(t.resample('10D').mean())"
   ]
  }
 ],
 "metadata": {
  "kernelspec": {
   "display_name": "Python 3",
   "language": "python",
   "name": "python3"
  },
  "language_info": {
   "codemirror_mode": {
    "name": "ipython",
    "version": 3
   },
   "file_extension": ".py",
   "mimetype": "text/x-python",
   "name": "python",
   "nbconvert_exporter": "python",
   "pygments_lexer": "ipython3",
   "version": "3.7.4"
  }
 },
 "nbformat": 4,
 "nbformat_minor": 2
}
