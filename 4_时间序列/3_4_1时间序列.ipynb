{
 "cells": [
  {
   "attachments": {},
   "cell_type": "markdown",
   "metadata": {},
   "source": [
    "## pd.date_range(start=None, end=None, periods=None, freq='D')\n",
    "#### start和end以及freq配合能够生成start和end范围内以频率freq的一组时间索引\n",
    "#### start和periods以及freq配合能够生成从start开始的频率为freq的periods个时间索引\n"
   ]
  },
  {
   "cell_type": "code",
   "execution_count": 3,
   "metadata": {},
   "outputs": [],
   "source": [
    "import pandas as pd\n",
    "import numpy as np"
   ]
  },
  {
   "cell_type": "code",
   "execution_count": 5,
   "metadata": {},
   "outputs": [
    {
     "name": "stdout",
     "output_type": "stream",
     "text": [
      "DatetimeIndex(['2017-12-30', '2017-12-31', '2018-01-01', '2018-01-02',\n",
      "               '2018-01-03', '2018-01-04', '2018-01-05', '2018-01-06',\n",
      "               '2018-01-07', '2018-01-08', '2018-01-09', '2018-01-10',\n",
      "               '2018-01-11', '2018-01-12', '2018-01-13', '2018-01-14',\n",
      "               '2018-01-15', '2018-01-16', '2018-01-17', '2018-01-18',\n",
      "               '2018-01-19', '2018-01-20', '2018-01-21', '2018-01-22',\n",
      "               '2018-01-23', '2018-01-24', '2018-01-25', '2018-01-26',\n",
      "               '2018-01-27', '2018-01-28', '2018-01-29', '2018-01-30',\n",
      "               '2018-01-31'],\n",
      "              dtype='datetime64[ns]', freq='D')\n"
     ]
    }
   ],
   "source": [
    "print(pd.date_range(start='20171230',end='20180131',freq='D'))"
   ]
  },
  {
   "cell_type": "code",
   "execution_count": 6,
   "metadata": {},
   "outputs": [
    {
     "name": "stdout",
     "output_type": "stream",
     "text": [
      "DatetimeIndex(['2017-12-30', '2018-01-09', '2018-01-19', '2018-01-29'], dtype='datetime64[ns]', freq='10D')\n"
     ]
    }
   ],
   "source": [
    "print(pd.date_range(start='20171230',end='20180131',freq='10D'))"
   ]
  },
  {
   "cell_type": "code",
   "execution_count": 7,
   "metadata": {},
   "outputs": [
    {
     "name": "stdout",
     "output_type": "stream",
     "text": [
      "DatetimeIndex(['2017-12-30', '2017-12-31', '2018-01-01', '2018-01-02',\n",
      "               '2018-01-03', '2018-01-04', '2018-01-05', '2018-01-06',\n",
      "               '2018-01-07', '2018-01-08'],\n",
      "              dtype='datetime64[ns]', freq='D')\n"
     ]
    }
   ],
   "source": [
    "print(pd.date_range(start='20171230',periods=10,freq='D'))"
   ]
  },
  {
   "cell_type": "code",
   "execution_count": 8,
   "metadata": {},
   "outputs": [
    {
     "name": "stdout",
     "output_type": "stream",
     "text": [
      "DatetimeIndex(['2017-12-31', '2018-01-31', '2018-02-28', '2018-03-31',\n",
      "               '2018-04-30', '2018-05-31', '2018-06-30', '2018-07-31',\n",
      "               '2018-08-31', '2018-09-30'],\n",
      "              dtype='datetime64[ns]', freq='M')\n"
     ]
    }
   ],
   "source": [
    "print(pd.date_range(start='20171230',periods=10,freq='M'))  #MonthEnd"
   ]
  },
  {
   "cell_type": "code",
   "execution_count": 12,
   "metadata": {},
   "outputs": [
    {
     "name": "stdout",
     "output_type": "stream",
     "text": [
      "DatetimeIndex(['2017-12-30 00:00:00', '2017-12-30 01:00:00',\n",
      "               '2017-12-30 02:00:00', '2017-12-30 03:00:00',\n",
      "               '2017-12-30 04:00:00', '2017-12-30 05:00:00',\n",
      "               '2017-12-30 06:00:00', '2017-12-30 07:00:00',\n",
      "               '2017-12-30 08:00:00', '2017-12-30 09:00:00'],\n",
      "              dtype='datetime64[ns]', freq='H')\n"
     ]
    }
   ],
   "source": [
    "print(pd.date_range(start='20171230',periods=10,freq='H'))"
   ]
  },
  {
   "cell_type": "code",
   "execution_count": 13,
   "metadata": {},
   "outputs": [
    {
     "name": "stdout",
     "output_type": "stream",
     "text": [
      "DatetimeIndex(['2018-01-01', '2018-02-01', '2018-03-01', '2018-04-01',\n",
      "               '2018-05-01', '2018-06-01', '2018-07-01', '2018-08-01',\n",
      "               '2018-09-01', '2018-10-01'],\n",
      "              dtype='datetime64[ns]', freq='MS')\n"
     ]
    }
   ],
   "source": [
    "print(pd.date_range(start='20171230',periods=10,freq='MS'))"
   ]
  },
  {
   "cell_type": "code",
   "execution_count": null,
   "metadata": {},
   "outputs": [],
   "source": []
  }
 ],
 "metadata": {
  "kernelspec": {
   "display_name": "Python 3",
   "language": "python",
   "name": "python3"
  },
  "language_info": {
   "codemirror_mode": {
    "name": "ipython",
    "version": 3
   },
   "file_extension": ".py",
   "mimetype": "text/x-python",
   "name": "python",
   "nbconvert_exporter": "python",
   "pygments_lexer": "ipython3",
   "version": "3.7.4"
  }
 },
 "nbformat": 4,
 "nbformat_minor": 2
}
