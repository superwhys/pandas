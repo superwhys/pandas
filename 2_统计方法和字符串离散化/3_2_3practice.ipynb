{
 "cells": [
  {
   "attachments": {},
   "cell_type": "markdown",
   "metadata": {},
   "source": [
    "## 对于这一组电影数据，如果我们希望统计电影分类(genre)的情况，应该如何处理数据？"
   ]
  },
  {
   "attachments": {},
   "cell_type": "markdown",
   "metadata": {},
   "source": [
    "#### 思路：重新构造一个全为0的数组，列名为分类，如果某一条数据中分类出现过，就让0变为1"
   ]
  },
  {
   "cell_type": "code",
   "execution_count": 26,
   "metadata": {},
   "outputs": [],
   "source": [
    "import pandas as pd\n",
    "import numpy as np"
   ]
  },
  {
   "cell_type": "code",
   "execution_count": 27,
   "metadata": {},
   "outputs": [],
   "source": [
    "file_path = './IMDB-Movie-Data.csv'"
   ]
  },
  {
   "cell_type": "code",
   "execution_count": 28,
   "metadata": {},
   "outputs": [],
   "source": [
    "df = pd.read_csv(file_path)\n"
   ]
  },
  {
   "cell_type": "code",
   "execution_count": 29,
   "metadata": {},
   "outputs": [
    {
     "name": "stdout",
     "output_type": "stream",
     "text": [
      "0       Action,Adventure,Sci-Fi\n",
      "1      Adventure,Mystery,Sci-Fi\n",
      "2               Horror,Thriller\n",
      "3       Animation,Comedy,Family\n",
      "4      Action,Adventure,Fantasy\n",
      "                 ...           \n",
      "995         Crime,Drama,Mystery\n",
      "996                      Horror\n",
      "997         Drama,Music,Romance\n",
      "998            Adventure,Comedy\n",
      "999       Comedy,Family,Fantasy\n",
      "Name: Genre, Length: 1000, dtype: object\n"
     ]
    }
   ],
   "source": [
    "print(df['Genre'])"
   ]
  },
  {
   "cell_type": "code",
   "execution_count": 30,
   "metadata": {},
   "outputs": [
    {
     "name": "stdout",
     "output_type": "stream",
     "text": [
      "['Romance', 'Musical', 'History', 'Animation', 'Sci-Fi', 'Fantasy', 'Adventure', 'Mystery', 'War', 'Music', 'Family', 'Western', 'Action', 'Comedy', 'Biography', 'Horror', 'Drama', 'Crime', 'Sport', 'Thriller']\n"
     ]
    }
   ],
   "source": [
    "#获取去重后的分类\n",
    "temp_genre_data = df['Genre'].str.split(',').tolist()\n",
    "genre_data = list(set([i for j in temp_genre_data for i in j]))\n",
    "print(genre_data)"
   ]
  },
  {
   "cell_type": "code",
   "execution_count": 38,
   "metadata": {},
   "outputs": [
    {
     "name": "stdout",
     "output_type": "stream",
     "text": [
      "     Romance  Musical  History  Animation  Sci-Fi  Fantasy  Adventure  \\\n",
      "0        0.0      0.0      0.0        0.0     1.0      0.0        1.0   \n",
      "1        0.0      0.0      0.0        0.0     1.0      0.0        1.0   \n",
      "2        0.0      0.0      0.0        0.0     0.0      0.0        0.0   \n",
      "3        0.0      0.0      0.0        1.0     0.0      0.0        0.0   \n",
      "4        0.0      0.0      0.0        0.0     0.0      1.0        1.0   \n",
      "..       ...      ...      ...        ...     ...      ...        ...   \n",
      "995      0.0      0.0      0.0        0.0     0.0      0.0        0.0   \n",
      "996      0.0      0.0      0.0        0.0     0.0      0.0        0.0   \n",
      "997      1.0      0.0      0.0        0.0     0.0      0.0        0.0   \n",
      "998      0.0      0.0      0.0        0.0     0.0      0.0        1.0   \n",
      "999      0.0      0.0      0.0        0.0     0.0      1.0        0.0   \n",
      "\n",
      "     Mystery  War  Music  Family  Western  Action  Comedy  Biography  Horror  \\\n",
      "0        0.0  0.0    0.0     0.0      0.0     1.0     0.0        0.0     0.0   \n",
      "1        1.0  0.0    0.0     0.0      0.0     0.0     0.0        0.0     0.0   \n",
      "2        0.0  0.0    0.0     0.0      0.0     0.0     0.0        0.0     1.0   \n",
      "3        0.0  0.0    0.0     1.0      0.0     0.0     1.0        0.0     0.0   \n",
      "4        0.0  0.0    0.0     0.0      0.0     1.0     0.0        0.0     0.0   \n",
      "..       ...  ...    ...     ...      ...     ...     ...        ...     ...   \n",
      "995      1.0  0.0    0.0     0.0      0.0     0.0     0.0        0.0     0.0   \n",
      "996      0.0  0.0    0.0     0.0      0.0     0.0     0.0        0.0     1.0   \n",
      "997      0.0  0.0    1.0     0.0      0.0     0.0     0.0        0.0     0.0   \n",
      "998      0.0  0.0    0.0     0.0      0.0     0.0     1.0        0.0     0.0   \n",
      "999      0.0  0.0    0.0     1.0      0.0     0.0     1.0        0.0     0.0   \n",
      "\n",
      "     Drama  Crime  Sport  Thriller  \n",
      "0      0.0    0.0    0.0       0.0  \n",
      "1      0.0    0.0    0.0       0.0  \n",
      "2      0.0    0.0    0.0       1.0  \n",
      "3      0.0    0.0    0.0       0.0  \n",
      "4      0.0    0.0    0.0       0.0  \n",
      "..     ...    ...    ...       ...  \n",
      "995    1.0    1.0    0.0       0.0  \n",
      "996    0.0    0.0    0.0       0.0  \n",
      "997    1.0    0.0    0.0       0.0  \n",
      "998    0.0    0.0    0.0       0.0  \n",
      "999    0.0    0.0    0.0       0.0  \n",
      "\n",
      "[1000 rows x 20 columns]\n"
     ]
    }
   ],
   "source": [
    "# 构造全为0的数组\n",
    "zeros_df = pd.DataFrame(np.zeros((df.shape[0],len(genre_data))),columns = genre_data)\n",
    "# print(zero_df)\n",
    "#给每个电影出现分类的位置赋值1\n",
    "for i in range(df.shape[0]):\n",
    "    zeros_df.loc[i,temp_genre_data[i]] = 1\n",
    "print(zeros_df)"
   ]
  },
  {
   "cell_type": "code",
   "execution_count": 40,
   "metadata": {},
   "outputs": [
    {
     "name": "stdout",
     "output_type": "stream",
     "text": [
      "Musical        5.0\n",
      "Western        7.0\n",
      "War           13.0\n",
      "Music         16.0\n",
      "Sport         18.0\n",
      "History       29.0\n",
      "Animation     49.0\n",
      "Family        51.0\n",
      "Biography     81.0\n",
      "Fantasy      101.0\n",
      "Mystery      106.0\n",
      "Horror       119.0\n",
      "Sci-Fi       120.0\n",
      "Romance      141.0\n",
      "Crime        150.0\n",
      "Thriller     195.0\n",
      "Adventure    259.0\n",
      "Comedy       279.0\n",
      "Action       303.0\n",
      "Drama        513.0\n",
      "dtype: float64\n"
     ]
    }
   ],
   "source": [
    "#统计每个分类的电影的数量和\n",
    "genre_count = zeros_df.sum(axis = 0)\n",
    "#排序\n",
    "genre_count = genre_count.sort_values()\n",
    "print(genre_count)"
   ]
  },
  {
   "cell_type": "markdown",
   "metadata": {},
   "source": [
    "### 画图"
   ]
  },
  {
   "cell_type": "code",
   "execution_count": 42,
   "metadata": {},
   "outputs": [],
   "source": [
    "from matplotlib import pyplot as plt"
   ]
  },
  {
   "cell_type": "code",
   "execution_count": 44,
   "metadata": {},
   "outputs": [
    {
     "data": {
      "image/png": "[encoded data removed]",
      "text/plain": [
       "<Figure size 1600x800 with 1 Axes>"
      ]
     },
     "metadata": {
      "needs_background": "light"
     },
     "output_type": "display_data"
    }
   ],
   "source": [
    "_x = genre_count.index\n",
    "_y = genre_count.values\n",
    "\n",
    "plt.figure(figsize=(20,10),dpi = 80)\n",
    "plt.bar(range(len(_x)),_y)\n",
    "#调整x轴\n",
    "plt.xticks(range(len(_x)),_x)\n",
    "plt.grid()\n",
    "plt.show()"
   ]
  },
  {
   "cell_type": "code",
   "execution_count": null,
   "metadata": {},
   "outputs": [],
   "source": []
  }
 ],
 "metadata": {
  "kernelspec": {
   "display_name": "Python 3",
   "language": "python",
   "name": "python3"
  },
  "language_info": {
   "codemirror_mode": {
    "name": "ipython",
    "version": 3
   },
   "file_extension": ".py",
   "mimetype": "text/x-python",
   "name": "python",
   "nbconvert_exporter": "python",
   "pygments_lexer": "ipython3",
   "version": "3.7.4"
  }
 },
 "nbformat": 4,
 "nbformat_minor": 2
}
