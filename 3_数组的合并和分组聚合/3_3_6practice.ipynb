{
 "cells": [
  {
   "attachments": {},
   "cell_type": "markdown",
   "metadata": {},
   "source": [
    "### 现在我们有2015到2017年25万条911的紧急电话的数据，请统计出出这些数据中不同类型的紧急情况的次数，如果我们还想统计出不同月份不同类型紧急电话的次数的变化情况，应该怎么做呢？\n"
   ]
  },
  {
   "cell_type": "code",
   "execution_count": 1,
   "metadata": {},
   "outputs": [],
   "source": [
    "from matplotlib import pyplot as plt\n",
    "from matplotlib import rc\n",
    "import pandas as pd\n",
    "import numpy as np"
   ]
  },
  {
   "cell_type": "code",
   "execution_count": 4,
   "metadata": {},
   "outputs": [],
   "source": [
    "file_path = './911.csv'"
   ]
  },
  {
   "cell_type": "code",
   "execution_count": 5,
   "metadata": {},
   "outputs": [
    {
     "name": "stdout",
     "output_type": "stream",
     "text": [
      "         lat        lng                                               desc  \\\n",
      "0  40.297876 -75.581294  REINDEER CT & DEAD END;  NEW HANOVER; Station ...   \n",
      "\n",
      "       zip                   title            timeStamp          twp  \\\n",
      "0  19525.0  EMS: BACK PAINS/INJURY  2015-12-10 17:10:52  NEW HANOVER   \n",
      "\n",
      "                     addr  e  \n",
      "0  REINDEER CT & DEAD END  1  \n"
     ]
    }
   ],
   "source": [
    "df = pd.read_csv(file_path)\n",
    "print(df.head(1))"
   ]
  },
  {
   "cell_type": "code",
   "execution_count": 6,
   "metadata": {},
   "outputs": [
    {
     "name": "stdout",
     "output_type": "stream",
     "text": [
      "<class 'pandas.core.frame.DataFrame'>\n",
      "RangeIndex: 249737 entries, 0 to 249736\n",
      "Data columns (total 9 columns):\n",
      "lat          249737 non-null float64\n",
      "lng          249737 non-null float64\n",
      "desc         249737 non-null object\n",
      "zip          219391 non-null float64\n",
      "title        249737 non-null object\n",
      "timeStamp    249737 non-null object\n",
      "twp          249644 non-null object\n",
      "addr         249737 non-null object\n",
      "e            249737 non-null int64\n",
      "dtypes: float64(3), int64(1), object(5)\n",
      "memory usage: 17.1+ MB\n",
      "None\n"
     ]
    }
   ],
   "source": [
    "print(df.info())"
   ]
  },
  {
   "cell_type": "code",
   "execution_count": 28,
   "metadata": {},
   "outputs": [
    {
     "name": "stdout",
     "output_type": "stream",
     "text": [
      "['Traffic', 'EMS', 'Fire']\n"
     ]
    }
   ],
   "source": [
    "#获取分类\n",
    "title = df['title'].str.split(': ').tolist()\n",
    "cate_list = list(set([i[0] for i in title]))\n",
    "print(cate_list)"
   ]
  },
  {
   "cell_type": "code",
   "execution_count": 31,
   "metadata": {},
   "outputs": [
    {
     "name": "stdout",
     "output_type": "stream",
     "text": [
      "        Traffic  EMS  Fire\n",
      "0           0.0  1.0   0.0\n",
      "1           0.0  1.0   0.0\n",
      "2           0.0  0.0   1.0\n",
      "3           0.0  1.0   0.0\n",
      "4           0.0  1.0   0.0\n",
      "...         ...  ...   ...\n",
      "249732      0.0  1.0   0.0\n",
      "249733      0.0  1.0   0.0\n",
      "249734      0.0  1.0   0.0\n",
      "249735      0.0  0.0   1.0\n",
      "249736      1.0  0.0   0.0\n",
      "\n",
      "[249737 rows x 3 columns]\n"
     ]
    }
   ],
   "source": [
    "#构造全为0的数组\n",
    "zero_df = pd.DataFrame(np.zeros((df.shape[0],len(cate_list))),columns = cate_list)\n",
    "\n",
    "#赋值   通过遍历title数据量大，速度慢，因此使用contains（）来获得包含当前分类的位置\n",
    "for cate in cate_list:\n",
    "    zero_df[cate][df['title'].str.contains(cate)] = 1\n",
    "print(zero_df)\n",
    "\n",
    "# #直接遍历效率慢\n",
    "# for i in range(df.shape[0]):\n",
    "#     zero_df.loc[i,title[i][0]] = 1\n",
    "# print(zero_df)"
   ]
  },
  {
   "cell_type": "code",
   "execution_count": 33,
   "metadata": {},
   "outputs": [
    {
     "name": "stdout",
     "output_type": "stream",
     "text": [
      "Traffic     87465.0\n",
      "EMS        124844.0\n",
      "Fire        37432.0\n",
      "dtype: float64\n"
     ]
    }
   ],
   "source": [
    "sum_ret = zero_df.sum(axis=0)\n",
    "print(sum_ret)"
   ]
  },
  {
   "cell_type": "markdown",
   "metadata": {},
   "source": [
    "### 如果我们还想统计出不同月份不同类型紧急电话的次数的变化情况"
   ]
  },
  {
   "cell_type": "code",
   "execution_count": 37,
   "metadata": {},
   "outputs": [
    {
     "name": "stdout",
     "output_type": "stream",
     "text": [
      "         lat        lng                                               desc  \\\n",
      "0  40.297876 -75.581294  REINDEER CT & DEAD END;  NEW HANOVER; Station ...   \n",
      "1  40.258061 -75.264680  BRIAR PATH & WHITEMARSH LN;  HATFIELD TOWNSHIP...   \n",
      "2  40.121182 -75.351975  HAWS AVE; NORRISTOWN; 2015-12-10 @ 14:39:21-St...   \n",
      "3  40.116153 -75.343513  AIRY ST & SWEDE ST;  NORRISTOWN; Station 308A;...   \n",
      "4  40.251492 -75.603350  CHERRYWOOD CT & DEAD END;  LOWER POTTSGROVE; S...   \n",
      "\n",
      "       zip                    title            timeStamp                twp  \\\n",
      "0  19525.0   EMS: BACK PAINS/INJURY  2015-12-10 17:10:52        NEW HANOVER   \n",
      "1  19446.0  EMS: DIABETIC EMERGENCY  2015-12-10 17:29:21  HATFIELD TOWNSHIP   \n",
      "2  19401.0      Fire: GAS-ODOR/LEAK  2015-12-10 14:39:21         NORRISTOWN   \n",
      "3  19401.0   EMS: CARDIAC EMERGENCY  2015-12-10 16:47:36         NORRISTOWN   \n",
      "4      NaN           EMS: DIZZINESS  2015-12-10 16:56:52   LOWER POTTSGROVE   \n",
      "\n",
      "                         addr  e  cate  \n",
      "0      REINDEER CT & DEAD END  1   EMS  \n",
      "1  BRIAR PATH & WHITEMARSH LN  1   EMS  \n",
      "2                    HAWS AVE  1  Fire  \n",
      "3          AIRY ST & SWEDE ST  1   EMS  \n",
      "4    CHERRYWOOD CT & DEAD END  1   EMS  \n"
     ]
    }
   ],
   "source": [
    "cate_list = [i[0] for i in title]\n",
    "df['cate'] = pd.DataFrame(np.array(cate_list).reshape((df.shape[0],1)))\n",
    "print(df.head(5))"
   ]
  },
  {
   "cell_type": "code",
   "execution_count": 38,
   "metadata": {},
   "outputs": [
    {
     "name": "stdout",
     "output_type": "stream",
     "text": [
      "cate\n",
      "EMS        124840\n",
      "Fire        37432\n",
      "Traffic     87465\n",
      "Name: title, dtype: int64\n"
     ]
    }
   ],
   "source": [
    "print(df.groupby(by='cate').count()['title'])"
   ]
  }
 ],
 "metadata": {
  "kernelspec": {
   "display_name": "Python 3",
   "language": "python",
   "name": "python3"
  },
  "language_info": {
   "codemirror_mode": {
    "name": "ipython",
    "version": 3
   },
   "file_extension": ".py",
   "mimetype": "text/x-python",
   "name": "python",
   "nbconvert_exporter": "python",
   "pygments_lexer": "ipython3",
   "version": "3.7.4"
  }
 },
 "nbformat": 4,
 "nbformat_minor": 2
}
