{
 "cells": [
  {
   "cell_type": "code",
   "execution_count": 1,
   "metadata": {},
   "outputs": [],
   "source": [
    "import pandas as pd\n",
    "import numpy as np"
   ]
  },
  {
   "attachments": {},
   "cell_type": "markdown",
   "metadata": {},
   "source": [
    "## join:默认情况下他是把行索引相同的数据合并到一起"
   ]
  },
  {
   "cell_type": "code",
   "execution_count": 4,
   "metadata": {},
   "outputs": [
    {
     "name": "stdout",
     "output_type": "stream",
     "text": [
      "     a    b    c    d\n",
      "A  1.0  1.0  1.0  1.0\n",
      "B  1.0  1.0  1.0  1.0\n"
     ]
    }
   ],
   "source": [
    "df1 = pd.DataFrame(np.ones((2,4)),index = ['A','B'],columns = list('abcd'))\n",
    "print(df1)"
   ]
  },
  {
   "cell_type": "code",
   "execution_count": 6,
   "metadata": {},
   "outputs": [
    {
     "name": "stdout",
     "output_type": "stream",
     "text": [
      "     x    y    z\n",
      "A  0.0  0.0  0.0\n",
      "B  0.0  0.0  0.0\n",
      "C  0.0  0.0  0.0\n"
     ]
    }
   ],
   "source": [
    "df2 = pd.DataFrame(np.zeros((3,3)),index = ['A','B','C'],columns = list('xyz'))\n",
    "print(df2)"
   ]
  },
  {
   "cell_type": "code",
   "execution_count": 8,
   "metadata": {},
   "outputs": [
    {
     "name": "stdout",
     "output_type": "stream",
     "text": [
      "     a    b    c    d    x    y    z\n",
      "A  1.0  1.0  1.0  1.0  0.0  0.0  0.0\n",
      "B  1.0  1.0  1.0  1.0  0.0  0.0  0.0\n"
     ]
    }
   ],
   "source": [
    "print(df1.join(df2))"
   ]
  },
  {
   "cell_type": "code",
   "execution_count": 9,
   "metadata": {},
   "outputs": [
    {
     "name": "stdout",
     "output_type": "stream",
     "text": [
      "     x    y    z    a    b    c    d\n",
      "A  0.0  0.0  0.0  1.0  1.0  1.0  1.0\n",
      "B  0.0  0.0  0.0  1.0  1.0  1.0  1.0\n",
      "C  0.0  0.0  0.0  NaN  NaN  NaN  NaN\n"
     ]
    }
   ],
   "source": [
    "print(df2.join(df1))"
   ]
  },
  {
   "attachments": {},
   "cell_type": "markdown",
   "metadata": {},
   "source": [
    "## merge:按照指定的列把数据按照一定的方式合并到一起"
   ]
  },
  {
   "cell_type": "code",
   "execution_count": 11,
   "metadata": {},
   "outputs": [
    {
     "name": "stdout",
     "output_type": "stream",
     "text": [
      "     f    a    x\n",
      "0  0.0  0.0  0.0\n",
      "1  0.0  0.0  0.0\n",
      "2  0.0  0.0  0.0\n"
     ]
    }
   ],
   "source": [
    "df3 = pd.DataFrame(np.zeros((3,3)),columns = list('fax'))\n",
    "print(df3)"
   ]
  },
  {
   "cell_type": "code",
   "execution_count": 15,
   "metadata": {},
   "outputs": [
    {
     "name": "stdout",
     "output_type": "stream",
     "text": [
      "Empty DataFrame\n",
      "Columns: [a, b, c, d, f, x]\n",
      "Index: []\n"
     ]
    }
   ],
   "source": [
    "print(df1.merge(df3,on='a'))"
   ]
  },
  {
   "cell_type": "code",
   "execution_count": 17,
   "metadata": {},
   "outputs": [
    {
     "name": "stdout",
     "output_type": "stream",
     "text": [
      "   f  a  x\n",
      "0  0  1  2\n",
      "1  3  4  5\n",
      "2  6  7  8\n"
     ]
    }
   ],
   "source": [
    "df3 = pd.DataFrame(np.arange(9).reshape((3,3)),columns = list('fax'))\n",
    "print(df3)"
   ]
  },
  {
   "cell_type": "code",
   "execution_count": 19,
   "metadata": {},
   "outputs": [
    {
     "name": "stdout",
     "output_type": "stream",
     "text": [
      "     a    b    c    d  f  x\n",
      "0  1.0  1.0  1.0  1.0  0  2\n",
      "1  1.0  1.0  1.0  1.0  0  2\n"
     ]
    }
   ],
   "source": [
    "print(df1.merge(df3,on='a'))"
   ]
  },
  {
   "cell_type": "code",
   "execution_count": 21,
   "metadata": {},
   "outputs": [
    {
     "name": "stdout",
     "output_type": "stream",
     "text": [
      "       a    b    c    d\n",
      "A  100.0  1.0  1.0  1.0\n",
      "B    1.0  1.0  1.0  1.0\n"
     ]
    }
   ],
   "source": [
    "df1.loc['A','a'] = 100\n",
    "print(df1)"
   ]
  },
  {
   "cell_type": "code",
   "execution_count": 22,
   "metadata": {},
   "outputs": [
    {
     "name": "stdout",
     "output_type": "stream",
     "text": [
      "     a    b    c    d  f  x\n",
      "0  1.0  1.0  1.0  1.0  0  2\n"
     ]
    }
   ],
   "source": [
    "print(df1.merge(df3,on='a'))   #默认how='inner',交集"
   ]
  },
  {
   "cell_type": "code",
   "execution_count": 26,
   "metadata": {},
   "outputs": [
    {
     "name": "stdout",
     "output_type": "stream",
     "text": [
      "       a    b    c    d    f    x\n",
      "0  100.0  1.0  1.0  1.0  NaN  NaN\n",
      "1    1.0  1.0  1.0  1.0  0.0  2.0\n",
      "2    4.0  NaN  NaN  NaN  3.0  5.0\n",
      "3    7.0  NaN  NaN  NaN  6.0  8.0\n"
     ]
    }
   ],
   "source": [
    "print(df1.merge(df3,on='a',how='outer'))  # how='outer 并集"
   ]
  },
  {
   "cell_type": "code",
   "execution_count": 29,
   "metadata": {},
   "outputs": [
    {
     "name": "stdout",
     "output_type": "stream",
     "text": [
      "       a    b    c    d    f    x\n",
      "0  100.0  1.0  1.0  1.0  NaN  NaN\n",
      "1    1.0  1.0  1.0  1.0  0.0  2.0\n"
     ]
    }
   ],
   "source": [
    "print(df1.merge(df3,on='a',how='left'))  #以左边为准"
   ]
  },
  {
   "cell_type": "code",
   "execution_count": 31,
   "metadata": {},
   "outputs": [
    {
     "name": "stdout",
     "output_type": "stream",
     "text": [
      "       a    b    c    d\n",
      "A  100.0  1.0  1.0  1.0\n",
      "B    1.0  1.0  2.0  1.0\n",
      "--------------------\n",
      "   f  a  x\n",
      "0  0  1  2\n",
      "1  3  4  5\n",
      "2  6  7  8\n"
     ]
    }
   ],
   "source": [
    "df1.loc['B','c'] = 2.0\n",
    "print(df1)\n",
    "print('--'*10)\n",
    "print(df3)"
   ]
  },
  {
   "cell_type": "code",
   "execution_count": 32,
   "metadata": {},
   "outputs": [
    {
     "name": "stdout",
     "output_type": "stream",
     "text": [
      "     a    b    c    d  f  x\n",
      "0  1.0  1.0  2.0  1.0  0  2\n",
      "1  4.0  NaN  NaN  NaN  3  5\n",
      "2  7.0  NaN  NaN  NaN  6  8\n"
     ]
    }
   ],
   "source": [
    "print(df1.merge(df3,on='a',how='right'))  #以右边为准"
   ]
  },
  {
   "cell_type": "code",
   "execution_count": null,
   "metadata": {},
   "outputs": [],
   "source": []
  }
 ],
 "metadata": {
  "kernelspec": {
   "display_name": "Python 3",
   "language": "python",
   "name": "python3"
  },
  "language_info": {
   "codemirror_mode": {
    "name": "ipython",
    "version": 3
   },
   "file_extension": ".py",
   "mimetype": "text/x-python",
   "name": "python",
   "nbconvert_exporter": "python",
   "pygments_lexer": "ipython3",
   "version": "3.7.4"
  }
 },
 "nbformat": 4,
 "nbformat_minor": 2
}
