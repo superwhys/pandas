{
 "cells": [
  {
   "cell_type": "markdown",
   "metadata": {},
   "source": [
    "# 索引和复合索引"
   ]
  },
  {
   "cell_type": "code",
   "execution_count": 1,
   "metadata": {},
   "outputs": [],
   "source": [
    "import pandas as pd\n",
    "import numpy as np"
   ]
  },
  {
   "cell_type": "code",
   "execution_count": 2,
   "metadata": {},
   "outputs": [],
   "source": [
    "file_path = './starbucks_store_worldwide.csv'"
   ]
  },
  {
   "cell_type": "code",
   "execution_count": 3,
   "metadata": {},
   "outputs": [
    {
     "name": "stdout",
     "output_type": "stream",
     "text": [
      "       Brand  Store Number     Store Name Ownership Type     Street Address  \\\n",
      "0  Starbucks  47370-257954  Meritxell, 96       Licensed  Av. Meritxell, 96   \n",
      "\n",
      "               City State/Province Country Postcode Phone Number  \\\n",
      "0  Andorra la Vella              7      AD    AD500    376818720   \n",
      "\n",
      "                  Timezone  Longitude  Latitude  \n",
      "0  GMT+1:00 Europe/Andorra       1.53     42.51  \n"
     ]
    }
   ],
   "source": [
    "df = pd.read_csv(file_path)\n",
    "print(df.head(1))"
   ]
  },
  {
   "cell_type": "code",
   "execution_count": 7,
   "metadata": {},
   "outputs": [],
   "source": [
    "grouped1 = df[['Brand']].groupby(by = [df['Country'],df['State/Province']]).count()\n",
    "# grouped2 = df.groupby(by = [df['Country'],df['State/Province']])[['Brand']].count()\n",
    "# grouped3 = df.groupby(by = [df['Country'],df['State/Province']]).count()[['Brand']]"
   ]
  },
  {
   "cell_type": "markdown",
   "metadata": {},
   "source": [
    "## 索引的方法和属性"
   ]
  },
  {
   "cell_type": "markdown",
   "metadata": {},
   "source": [
    "####  .index 获取索引"
   ]
  },
  {
   "cell_type": "code",
   "execution_count": 8,
   "metadata": {},
   "outputs": [
    {
     "name": "stdout",
     "output_type": "stream",
     "text": [
      "MultiIndex([('AD',  '7'),\n",
      "            ('AE', 'AJ'),\n",
      "            ('AE', 'AZ'),\n",
      "            ('AE', 'DU'),\n",
      "            ('AE', 'FU'),\n",
      "            ('AE', 'RK'),\n",
      "            ('AE', 'SH'),\n",
      "            ('AE', 'UQ'),\n",
      "            ('AR',  'B'),\n",
      "            ('AR',  'C'),\n",
      "            ...\n",
      "            ('US', 'UT'),\n",
      "            ('US', 'VA'),\n",
      "            ('US', 'VT'),\n",
      "            ('US', 'WA'),\n",
      "            ('US', 'WI'),\n",
      "            ('US', 'WV'),\n",
      "            ('US', 'WY'),\n",
      "            ('VN', 'HN'),\n",
      "            ('VN', 'SG'),\n",
      "            ('ZA', 'GT')],\n",
      "           names=['Country', 'State/Province'], length=545)\n"
     ]
    }
   ],
   "source": [
    "print(grouped1.index)"
   ]
  },
  {
   "cell_type": "code",
   "execution_count": 10,
   "metadata": {},
   "outputs": [
    {
     "name": "stdout",
     "output_type": "stream",
     "text": [
      "     a    b    c    d\n",
      "A  1.0  1.0  1.0  1.0\n",
      "B  1.0  1.0  1.0  1.0\n"
     ]
    }
   ],
   "source": [
    "df1 = pd.DataFrame(np.ones((2,4)),index=['A','B'],columns=list('abcd'))\n",
    "print(df1)"
   ]
  },
  {
   "cell_type": "code",
   "execution_count": 11,
   "metadata": {},
   "outputs": [
    {
     "name": "stdout",
     "output_type": "stream",
     "text": [
      "Index(['A', 'B'], dtype='object')\n"
     ]
    }
   ],
   "source": [
    "print(df1.index)"
   ]
  },
  {
   "cell_type": "markdown",
   "metadata": {},
   "source": [
    "#### .index=['x','y'] 指定索引"
   ]
  },
  {
   "cell_type": "code",
   "execution_count": 12,
   "metadata": {},
   "outputs": [
    {
     "name": "stdout",
     "output_type": "stream",
     "text": [
      "     a    b    c    d\n",
      "a  1.0  1.0  1.0  1.0\n",
      "b  1.0  1.0  1.0  1.0\n"
     ]
    }
   ],
   "source": [
    "df1.index = ['a','b']\n",
    "print(df1)"
   ]
  },
  {
   "cell_type": "markdown",
   "metadata": {},
   "source": [
    "#### .reindex([....])"
   ]
  },
  {
   "cell_type": "code",
   "execution_count": 17,
   "metadata": {},
   "outputs": [
    {
     "name": "stdout",
     "output_type": "stream",
     "text": [
      "     a    b    c    d\n",
      "a  1.0  1.0  1.0  1.0\n",
      "f  NaN  NaN  NaN  NaN\n"
     ]
    }
   ],
   "source": [
    "df2 = df1.reindex(['a','f'])  #相当于从df1中获取索引及对应的值，若没有则为NaN\n",
    "print(df2)"
   ]
  },
  {
   "cell_type": "markdown",
   "metadata": {},
   "source": [
    "#### .set_index() 将某一列作为索引"
   ]
  },
  {
   "cell_type": "code",
   "execution_count": 19,
   "metadata": {},
   "outputs": [
    {
     "name": "stdout",
     "output_type": "stream",
     "text": [
      "       b    c    d\n",
      "a                 \n",
      "1.0  1.0  1.0  1.0\n",
      "1.0  1.0  1.0  1.0\n",
      "Float64Index([1.0, 1.0], dtype='float64', name='a')\n"
     ]
    }
   ],
   "source": [
    "df3 = df1.set_index('a')\n",
    "print(df3)\n",
    "print(df3.index)"
   ]
  },
  {
   "cell_type": "code",
   "execution_count": 21,
   "metadata": {},
   "outputs": [
    {
     "name": "stdout",
     "output_type": "stream",
     "text": [
      "       a    b    c    d\n",
      "a                      \n",
      "1.0  1.0  1.0  1.0  1.0\n",
      "1.0  1.0  1.0  1.0  1.0\n"
     ]
    }
   ],
   "source": [
    "df3 = df1.set_index('a',drop=False) #drop = False 保留原来a的值\n",
    "print(df3)"
   ]
  },
  {
   "cell_type": "markdown",
   "metadata": {},
   "source": [
    "#### .index.unique() 返回索引的唯一值"
   ]
  },
  {
   "cell_type": "code",
   "execution_count": 23,
   "metadata": {},
   "outputs": [
    {
     "name": "stdout",
     "output_type": "stream",
     "text": [
      "Float64Index([1.0], dtype='float64', name='a')\n"
     ]
    }
   ],
   "source": [
    "df4 = df3.index.unique()\n",
    "print(df4)"
   ]
  },
  {
   "cell_type": "code",
   "execution_count": 27,
   "metadata": {},
   "outputs": [
    {
     "name": "stdout",
     "output_type": "stream",
     "text": [
      "       a    b    c    d\n",
      "a  100.0  1.0  1.0  1.0\n",
      "b    1.0  1.0  1.0  1.0\n"
     ]
    }
   ],
   "source": [
    "df1.loc['a','a'] = 100.0\n",
    "print(df1)"
   ]
  },
  {
   "cell_type": "code",
   "execution_count": 28,
   "metadata": {},
   "outputs": [
    {
     "name": "stdout",
     "output_type": "stream",
     "text": [
      "             c    d\n",
      "a     b            \n",
      "100.0 1.0  1.0  1.0\n",
      "1.0   1.0  1.0  1.0\n",
      "MultiIndex([(100.0, 1.0),\n",
      "            (  1.0, 1.0)],\n",
      "           names=['a', 'b'])\n"
     ]
    }
   ],
   "source": [
    "df5 = df1.set_index(['a','b'])\n",
    "print(df5)\n",
    "print(df5.index)"
   ]
  },
  {
   "cell_type": "markdown",
   "metadata": {},
   "source": [
    "### 总结：索引是一个可迭代对象，可以用len求其长度，也可以用list()将其转换为列表等"
   ]
  },
  {
   "cell_type": "code",
   "execution_count": 30,
   "metadata": {},
   "outputs": [],
   "source": [
    "a = pd.DataFrame({'a': range(7),'b': range(7, 0, -1),'c': ['one','one','one','two','two','two', 'two'],'d': list(\"hjklmno\")})"
   ]
  },
  {
   "cell_type": "code",
   "execution_count": 31,
   "metadata": {},
   "outputs": [
    {
     "name": "stdout",
     "output_type": "stream",
     "text": [
      "   a  b    c  d\n",
      "0  0  7  one  h\n",
      "1  1  6  one  j\n",
      "2  2  5  one  k\n",
      "3  3  4  two  l\n",
      "4  4  3  two  m\n",
      "5  5  2  two  n\n",
      "6  6  1  two  o\n"
     ]
    }
   ],
   "source": [
    "print(a)"
   ]
  },
  {
   "cell_type": "code",
   "execution_count": 47,
   "metadata": {},
   "outputs": [
    {
     "name": "stdout",
     "output_type": "stream",
     "text": [
      "       a  b\n",
      "c   d      \n",
      "one h  0  7\n",
      "    j  1  6\n",
      "    k  2  5\n",
      "two l  3  4\n",
      "    m  4  3\n",
      "    n  5  2\n",
      "    o  6  1\n",
      "<class 'pandas.core.frame.DataFrame'>\n"
     ]
    }
   ],
   "source": [
    "b = a.set_index(['c','d'])\n",
    "print(b)\n",
    "print(type(b))"
   ]
  },
  {
   "cell_type": "code",
   "execution_count": 48,
   "metadata": {},
   "outputs": [
    {
     "name": "stdout",
     "output_type": "stream",
     "text": [
      "c    d\n",
      "one  h    0\n",
      "     j    1\n",
      "     k    2\n",
      "two  l    3\n",
      "     m    4\n",
      "     n    5\n",
      "     o    6\n",
      "Name: a, dtype: int64\n",
      "<class 'pandas.core.series.Series'>\n"
     ]
    }
   ],
   "source": [
    "c = b['a']  #Series类型\n",
    "print(c)\n",
    "print(type(c))"
   ]
  },
  {
   "cell_type": "code",
   "execution_count": 37,
   "metadata": {},
   "outputs": [
    {
     "name": "stdout",
     "output_type": "stream",
     "text": [
      "d\n",
      "h    0\n",
      "j    1\n",
      "k    2\n",
      "Name: a, dtype: int64\n"
     ]
    }
   ],
   "source": [
    "print(c['one'])"
   ]
  },
  {
   "cell_type": "code",
   "execution_count": 36,
   "metadata": {},
   "outputs": [
    {
     "name": "stdout",
     "output_type": "stream",
     "text": [
      "1\n"
     ]
    }
   ],
   "source": [
    "print(c['one']['j'])  #也可以c['one','j']"
   ]
  },
  {
   "cell_type": "code",
   "execution_count": 38,
   "metadata": {},
   "outputs": [
    {
     "name": "stdout",
     "output_type": "stream",
     "text": [
      "d  c  \n",
      "h  one    0\n",
      "j  one    1\n",
      "k  one    2\n",
      "l  two    3\n",
      "m  two    4\n",
      "n  two    5\n",
      "o  two    6\n",
      "Name: a, dtype: int64\n"
     ]
    }
   ],
   "source": [
    "d = a.set_index(['d','c'])['a']\n",
    "print(d)\n",
    "#此时想取one的值要怎么取"
   ]
  },
  {
   "cell_type": "code",
   "execution_count": 45,
   "metadata": {},
   "outputs": [
    {
     "name": "stdout",
     "output_type": "stream",
     "text": [
      "d\n",
      "h    0\n",
      "j    1\n",
      "k    2\n",
      "Name: a, dtype: int64\n"
     ]
    }
   ],
   "source": [
    "print(d.swaplevel()['one'])  #利用swaplevel()调换内外层"
   ]
  },
  {
   "cell_type": "code",
   "execution_count": 54,
   "metadata": {},
   "outputs": [
    {
     "name": "stdout",
     "output_type": "stream",
     "text": [
      "       a  b\n",
      "c   d      \n",
      "one h  0  7\n",
      "    j  1  6\n",
      "    k  2  5\n",
      "two l  3  4\n",
      "    m  4  3\n",
      "    n  5  2\n",
      "    o  6  1\n",
      "********************\n",
      "a    0\n",
      "b    7\n",
      "Name: h, dtype: int64\n"
     ]
    }
   ],
   "source": [
    "print(b)  # b是DataFrame类型，取某行数据是用.loc ,对于Series 直接用[]就可\n",
    "print('*'*20)\n",
    "print(b.loc['one'].loc['h'])"
   ]
  },
  {
   "cell_type": "code",
   "execution_count": 53,
   "metadata": {},
   "outputs": [
    {
     "name": "stdout",
     "output_type": "stream",
     "text": [
      "     a  b\n",
      "c        \n",
      "one  0  7\n"
     ]
    }
   ],
   "source": [
    "#若想取所有的 h 数据\n",
    "print(b.swaplevel().loc['h'])"
   ]
  }
 ],
 "metadata": {
  "kernelspec": {
   "display_name": "Python 3",
   "language": "python",
   "name": "python3"
  },
  "language_info": {
   "codemirror_mode": {
    "name": "ipython",
    "version": 3
   },
   "file_extension": ".py",
   "mimetype": "text/x-python",
   "name": "python",
   "nbconvert_exporter": "python",
   "pygments_lexer": "ipython3",
   "version": "3.7.4"
  }
 },
 "nbformat": 4,
 "nbformat_minor": 2
}
