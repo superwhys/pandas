{
 "cells": [
  {
   "cell_type": "code",
   "execution_count": 1,
   "metadata": {},
   "outputs": [],
   "source": [
    "import pandas as pd"
   ]
  },
  {
   "cell_type": "code",
   "execution_count": 2,
   "metadata": {},
   "outputs": [
    {
     "name": "stdout",
     "output_type": "stream",
     "text": [
      "      Row_Labels  Count_AnimalName\n",
      "0              1                 1\n",
      "1              2                 2\n",
      "2          40804                 1\n",
      "3          90201                 1\n",
      "4          90203                 1\n",
      "...          ...               ...\n",
      "16215      37916                 1\n",
      "16216      38282                 1\n",
      "16217      38583                 1\n",
      "16218      38948                 1\n",
      "16219      39743                 1\n",
      "\n",
      "[16220 rows x 2 columns]\n"
     ]
    }
   ],
   "source": [
    "#读取csv中的数据\n",
    "df = pd.read_csv('./dogNames2.csv')\n",
    "print(df)"
   ]
  },
  {
   "cell_type": "code",
   "execution_count": 3,
   "metadata": {},
   "outputs": [
    {
     "name": "stdout",
     "output_type": "stream",
     "text": [
      "  Row_Labels  Count_AnimalName\n",
      "0          1                 1\n",
      "1          2                 2\n",
      "2      40804                 1\n",
      "3      90201                 1\n",
      "4      90203                 1\n",
      "<class 'pandas.core.frame.DataFrame'>\n",
      "RangeIndex: 16220 entries, 0 to 16219\n",
      "Data columns (total 2 columns):\n",
      "Row_Labels          16217 non-null object\n",
      "Count_AnimalName    16220 non-null int64\n",
      "dtypes: int64(1), object(1)\n",
      "memory usage: 253.6+ KB\n",
      "None\n"
     ]
    }
   ],
   "source": [
    "print(df.head())\n",
    "print(df.info())"
   ]
  },
  {
   "cell_type": "code",
   "execution_count": 4,
   "metadata": {},
   "outputs": [
    {
     "name": "stdout",
     "output_type": "stream",
     "text": [
      "       Count_AnimalName\n",
      "count      16220.000000\n",
      "mean           6.558631\n",
      "std           31.862511\n",
      "min            1.000000\n",
      "25%            1.000000\n",
      "50%            1.000000\n",
      "75%            3.000000\n",
      "max         1195.000000\n"
     ]
    }
   ],
   "source": [
    "print(df.describe())"
   ]
  },
  {
   "cell_type": "markdown",
   "metadata": {},
   "source": [
    "#### DataFrame中排序的方法 "
   ]
  },
  {
   "cell_type": "code",
   "execution_count": 7,
   "metadata": {},
   "outputs": [
    {
     "name": "stdout",
     "output_type": "stream",
     "text": [
      "      Row_Labels  Count_AnimalName\n",
      "1156       BELLA              1195\n",
      "9140         MAX              1153\n",
      "2660     CHARLIE               856\n",
      "3251        COCO               852\n",
      "12368      ROCKY               823\n",
      "8417        LOLA               795\n",
      "8552       LUCKY               723\n",
      "8560        LUCY               710\n",
      "2032       BUDDY               677\n",
      "3641       DAISY               649\n"
     ]
    }
   ],
   "source": [
    "df = df.sort_values(by='Count_AnimalName',ascending=False)  # by 根据by进行排序 ，ascending FALSE表示降序排序，默认True升序排序\n",
    "print(df.head(10))"
   ]
  },
  {
   "cell_type": "code",
   "execution_count": null,
   "metadata": {},
   "outputs": [],
   "source": []
  }
 ],
 "metadata": {
  "kernelspec": {
   "display_name": "Python 3",
   "language": "python",
   "name": "python3"
  },
  "language_info": {
   "codemirror_mode": {
    "name": "ipython",
    "version": 3
   },
   "file_extension": ".py",
   "mimetype": "text/x-python",
   "name": "python",
   "nbconvert_exporter": "python",
   "pygments_lexer": "ipython3",
   "version": "3.7.4"
  }
 },
 "nbformat": 4,
 "nbformat_minor": 2
}
