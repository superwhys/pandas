{
 "cells": [
  {
   "cell_type": "code",
   "execution_count": 9,
   "metadata": {},
   "outputs": [],
   "source": [
    "import pandas as pd\n",
    "import numpy as np"
   ]
  },
  {
   "cell_type": "code",
   "execution_count": 3,
   "metadata": {},
   "outputs": [],
   "source": [
    "#读取csv中的数据\n",
    "df = pd.read_csv('./dogNames2.csv')\n",
    "df = df.sort_values(by='Count_AnimalName',ascending=False)"
   ]
  },
  {
   "cell_type": "code",
   "execution_count": 4,
   "metadata": {},
   "outputs": [
    {
     "name": "stdout",
     "output_type": "stream",
     "text": [
      "      Row_Labels  Count_AnimalName\n",
      "1156       BELLA              1195\n",
      "9140         MAX              1153\n",
      "2660     CHARLIE               856\n",
      "3251        COCO               852\n",
      "12368      ROCKY               823\n",
      "8417        LOLA               795\n",
      "8552       LUCKY               723\n",
      "8560        LUCY               710\n",
      "2032       BUDDY               677\n",
      "3641       DAISY               649\n",
      "11703   PRINCESS               603\n",
      "829       BAILEY               532\n",
      "9766       MOLLY               519\n",
      "14466      TEDDY               485\n",
      "2913       CHLOE               465\n",
      "14779       TOBY               446\n",
      "8620        LUNA               432\n",
      "6515        JACK               425\n",
      "8788      MAGGIE               393\n",
      "13762     SOPHIE               383\n"
     ]
    }
   ],
   "source": [
    "print(df[:20])  #取前20行"
   ]
  },
  {
   "cell_type": "code",
   "execution_count": 8,
   "metadata": {},
   "outputs": [
    {
     "name": "stdout",
     "output_type": "stream",
     "text": [
      "1156        BELLA\n",
      "9140          MAX\n",
      "2660      CHARLIE\n",
      "3251         COCO\n",
      "12368       ROCKY\n",
      "8417         LOLA\n",
      "8552        LUCKY\n",
      "8560         LUCY\n",
      "2032        BUDDY\n",
      "3641        DAISY\n",
      "11703    PRINCESS\n",
      "829        BAILEY\n",
      "9766        MOLLY\n",
      "14466       TEDDY\n",
      "2913        CHLOE\n",
      "14779        TOBY\n",
      "8620         LUNA\n",
      "6515         JACK\n",
      "8788       MAGGIE\n",
      "13762      SOPHIE\n",
      "Name: Row_Labels, dtype: object\n"
     ]
    }
   ],
   "source": [
    "print(df[:20][\"Row_Labels\"])  #取前20行中的Row_Labels"
   ]
  },
  {
   "cell_type": "markdown",
   "metadata": {},
   "source": [
    "#### 总结：方括号[ ]中写数字代表对行进行操作，字符串则是对列进行操作"
   ]
  },
  {
   "cell_type": "code",
   "execution_count": 6,
   "metadata": {},
   "outputs": [
    {
     "name": "stdout",
     "output_type": "stream",
     "text": [
      "      Row_Labels  Count_AnimalName\n",
      "11703   PRINCESS               603\n",
      "829       BAILEY               532\n",
      "9766       MOLLY               519\n",
      "14466      TEDDY               485\n",
      "2913       CHLOE               465\n",
      "14779       TOBY               446\n",
      "8620        LUNA               432\n",
      "6515        JACK               425\n",
      "8788      MAGGIE               393\n",
      "13762     SOPHIE               383\n"
     ]
    }
   ],
   "source": [
    "print(df[10:20])"
   ]
  },
  {
   "attachments": {},
   "cell_type": "markdown",
   "metadata": {},
   "source": [
    "### 1.df.loc 通过标签索引行数据\n"
   ]
  },
  {
   "cell_type": "code",
   "execution_count": 12,
   "metadata": {},
   "outputs": [
    {
     "name": "stdout",
     "output_type": "stream",
     "text": [
      "   W  X   Y   Z\n",
      "A  0  1   2   3\n",
      "B  4  5   6   7\n",
      "C  8  9  10  11\n"
     ]
    }
   ],
   "source": [
    "t3 = pd.DataFrame(np.arange(12).reshape((3,4)),index = list('ABC'),columns = list('WXYZ'))\n",
    "print(t3)"
   ]
  },
  {
   "cell_type": "code",
   "execution_count": 15,
   "metadata": {},
   "outputs": [
    {
     "name": "stdout",
     "output_type": "stream",
     "text": [
      "3\n"
     ]
    }
   ],
   "source": [
    "print(t3.loc['A','Z'])  #取‘A’行‘Z'列的值"
   ]
  },
  {
   "cell_type": "code",
   "execution_count": 19,
   "metadata": {},
   "outputs": [
    {
     "name": "stdout",
     "output_type": "stream",
     "text": [
      "W    0\n",
      "X    1\n",
      "Y    2\n",
      "Z    3\n",
      "Name: A, dtype: int32\n"
     ]
    }
   ],
   "source": [
    "print(t3.loc['A',:])  #取‘A’整行"
   ]
  },
  {
   "cell_type": "code",
   "execution_count": 21,
   "metadata": {},
   "outputs": [
    {
     "name": "stdout",
     "output_type": "stream",
     "text": [
      "A     2\n",
      "B     6\n",
      "C    10\n",
      "Name: Y, dtype: int32\n"
     ]
    }
   ],
   "source": [
    "print(t3.loc[:,'Y'])  #取‘Y'整列"
   ]
  },
  {
   "cell_type": "markdown",
   "metadata": {},
   "source": [
    "#### 取多行或多列 "
   ]
  },
  {
   "cell_type": "code",
   "execution_count": 22,
   "metadata": {},
   "outputs": [
    {
     "name": "stdout",
     "output_type": "stream",
     "text": [
      "   W  X   Y   Z\n",
      "A  0  1   2   3\n",
      "C  8  9  10  11\n"
     ]
    }
   ],
   "source": [
    "print(t3.loc[['A','C'],:]) #取'A'和'C'行"
   ]
  },
  {
   "cell_type": "code",
   "execution_count": 23,
   "metadata": {},
   "outputs": [
    {
     "name": "stdout",
     "output_type": "stream",
     "text": [
      "   W   Z\n",
      "A  0   3\n",
      "B  4   7\n",
      "C  8  11\n"
     ]
    }
   ],
   "source": [
    "print(t3.loc[:,['W','Z']]) #取多列"
   ]
  },
  {
   "cell_type": "code",
   "execution_count": 25,
   "metadata": {},
   "outputs": [
    {
     "name": "stdout",
     "output_type": "stream",
     "text": [
      "W    0\n",
      "Z    3\n",
      "Name: A, dtype: int32\n"
     ]
    }
   ],
   "source": [
    "print(t3.loc['A',['W','Z']]) #取某行下的某列"
   ]
  },
  {
   "cell_type": "code",
   "execution_count": 24,
   "metadata": {},
   "outputs": [
    {
     "name": "stdout",
     "output_type": "stream",
     "text": [
      "   W  Z\n",
      "A  0  3\n",
      "B  4  7\n"
     ]
    }
   ],
   "source": [
    "print(t3.loc[['A','B'],['W','Z']]) #取指定多行多列"
   ]
  },
  {
   "cell_type": "code",
   "execution_count": 27,
   "metadata": {},
   "outputs": [
    {
     "name": "stdout",
     "output_type": "stream",
     "text": [
      "   W   Z\n",
      "A  0   3\n",
      "B  4   7\n",
      "C  8  11\n"
     ]
    }
   ],
   "source": [
    "print(t3.loc['A':'C',['W','Z']]) #取指定多行多列"
   ]
  },
  {
   "cell_type": "markdown",
   "metadata": {},
   "source": [
    "### 2.df.iloc 通过位置获取行数据"
   ]
  },
  {
   "cell_type": "code",
   "execution_count": 28,
   "metadata": {
    "scrolled": false
   },
   "outputs": [
    {
     "name": "stdout",
     "output_type": "stream",
     "text": [
      "   W  X   Y   Z\n",
      "A  0  1   2   3\n",
      "B  4  5   6   7\n",
      "C  8  9  10  11\n"
     ]
    }
   ],
   "source": [
    "t3 = pd.DataFrame(np.arange(12).reshape((3,4)),index = list('ABC'),columns = list('WXYZ'))\n",
    "print(t3)"
   ]
  },
  {
   "cell_type": "code",
   "execution_count": 30,
   "metadata": {},
   "outputs": [
    {
     "name": "stdout",
     "output_type": "stream",
     "text": [
      "W    4\n",
      "X    5\n",
      "Y    6\n",
      "Z    7\n",
      "Name: B, dtype: int32\n"
     ]
    }
   ],
   "source": [
    "print(t3.iloc[1,:])"
   ]
  },
  {
   "cell_type": "code",
   "execution_count": 31,
   "metadata": {},
   "outputs": [
    {
     "name": "stdout",
     "output_type": "stream",
     "text": [
      "A     2\n",
      "B     6\n",
      "C    10\n",
      "Name: Y, dtype: int32\n"
     ]
    }
   ],
   "source": [
    "print(t3.iloc[:,2])"
   ]
  },
  {
   "cell_type": "code",
   "execution_count": 32,
   "metadata": {},
   "outputs": [
    {
     "name": "stdout",
     "output_type": "stream",
     "text": [
      "    Y  X\n",
      "A   2  1\n",
      "B   6  5\n",
      "C  10  9\n"
     ]
    }
   ],
   "source": [
    "print(t3.iloc[:,[2,1]]) #取第三列和第二列"
   ]
  },
  {
   "cell_type": "code",
   "execution_count": 33,
   "metadata": {},
   "outputs": [
    {
     "name": "stdout",
     "output_type": "stream",
     "text": [
      "    Y  X\n",
      "A   2  1\n",
      "C  10  9\n"
     ]
    }
   ],
   "source": [
    "print(t3.iloc[[0,2],[2,1]])"
   ]
  },
  {
   "cell_type": "code",
   "execution_count": 34,
   "metadata": {},
   "outputs": [
    {
     "name": "stdout",
     "output_type": "stream",
     "text": [
      "   W  X\n",
      "B  4  5\n",
      "C  8  9\n"
     ]
    }
   ],
   "source": [
    "print(t3.iloc[1:,:2])"
   ]
  },
  {
   "cell_type": "markdown",
   "metadata": {},
   "source": [
    "#### 布尔索引"
   ]
  },
  {
   "cell_type": "code",
   "execution_count": 36,
   "metadata": {},
   "outputs": [
    {
     "name": "stdout",
     "output_type": "stream",
     "text": [
      "   W  X   Y   Z\n",
      "B  4  5   6   7\n",
      "C  8  9  10  11\n"
     ]
    }
   ],
   "source": [
    "print(t3[t3['W']>2])"
   ]
  },
  {
   "cell_type": "code",
   "execution_count": 37,
   "metadata": {},
   "outputs": [
    {
     "name": "stdout",
     "output_type": "stream",
     "text": [
      "   W  X  Y  Z\n",
      "B  4  5  6  7\n"
     ]
    }
   ],
   "source": [
    "print(t3[(t3['W']>2) & (t3['W']<8)])"
   ]
  },
  {
   "cell_type": "code",
   "execution_count": null,
   "metadata": {},
   "outputs": [],
   "source": []
  }
 ],
 "metadata": {
  "kernelspec": {
   "display_name": "Python 3",
   "language": "python",
   "name": "python3"
  },
  "language_info": {
   "codemirror_mode": {
    "name": "ipython",
    "version": 3
   },
   "file_extension": ".py",
   "mimetype": "text/x-python",
   "name": "python",
   "nbconvert_exporter": "python",
   "pygments_lexer": "ipython3",
   "version": "3.7.4"
  }
 },
 "nbformat": 4,
 "nbformat_minor": 2
}
