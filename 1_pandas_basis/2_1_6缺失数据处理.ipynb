{
 "cells": [
  {
   "cell_type": "code",
   "execution_count": 8,
   "metadata": {},
   "outputs": [],
   "source": [
    "import pandas as pd\n",
    "import numpy as np"
   ]
  },
  {
   "cell_type": "markdown",
   "metadata": {},
   "source": [
    "## pd.isnull(df),  pd.notnull(df)\n"
   ]
  },
  {
   "cell_type": "code",
   "execution_count": 2,
   "metadata": {},
   "outputs": [
    {
     "name": "stdout",
     "output_type": "stream",
     "text": [
      "   W  X   Y   Z\n",
      "A  0  1   2   3\n",
      "B  4  5   6   7\n",
      "D  8  9  10  11\n"
     ]
    }
   ],
   "source": [
    "t1 = pd.DataFrame(np.arange(12).reshape((3,4)),index=list('ABD'),columns=list('WXYZ'))\n",
    "print(t1)"
   ]
  },
  {
   "cell_type": "code",
   "execution_count": 3,
   "metadata": {},
   "outputs": [
    {
     "name": "stdout",
     "output_type": "stream",
     "text": [
      "     W    X   Y   Z\n",
      "A  0.0  1.0   2   3\n",
      "B  NaN  NaN   6   7\n",
      "D  NaN  NaN  10  11\n"
     ]
    }
   ],
   "source": [
    "t1.iloc[1:,:2] = np.nan\n",
    "print(t1)"
   ]
  },
  {
   "cell_type": "code",
   "execution_count": 7,
   "metadata": {},
   "outputs": [
    {
     "name": "stdout",
     "output_type": "stream",
     "text": [
      "       W      X      Y      Z\n",
      "A  False  False  False  False\n",
      "B   True   True  False  False\n",
      "D   True   True  False  False\n",
      "W    2\n",
      "X    2\n",
      "Y    0\n",
      "Z    0\n",
      "dtype: int64\n"
     ]
    }
   ],
   "source": [
    "print(pd.isnull(t1))\n",
    "print(pd.isnull(t1).sum(axis=0))"
   ]
  },
  {
   "cell_type": "code",
   "execution_count": 7,
   "metadata": {},
   "outputs": [
    {
     "name": "stdout",
     "output_type": "stream",
     "text": [
      "       W      X     Y     Z\n",
      "A   True   True  True  True\n",
      "B  False  False  True  True\n",
      "D  False  False  True  True\n"
     ]
    }
   ],
   "source": [
    "print(pd.notnull(t1))"
   ]
  },
  {
   "cell_type": "code",
   "execution_count": 9,
   "metadata": {},
   "outputs": [
    {
     "name": "stdout",
     "output_type": "stream",
     "text": [
      "     W    X  Y  Z\n",
      "A  0.0  1.0  2  3\n"
     ]
    }
   ],
   "source": [
    "print(t1[pd.notnull(t1['W'])])"
   ]
  },
  {
   "cell_type": "markdown",
   "metadata": {},
   "source": [
    "#### 处理方式1：删除NaN所在的行列dropna (axis=0, how='any', inplace=False)\n",
    "#### 处理方式2：填充数据，t.fillna(t.mean()),t.fiallna(t.median()),t.fillna(0)"
   ]
  },
  {
   "cell_type": "code",
   "execution_count": 35,
   "metadata": {},
   "outputs": [
    {
     "name": "stdout",
     "output_type": "stream",
     "text": [
      "     W    X   Y   Z\n",
      "A  0.0  1.0   2   3\n",
      "B  NaN  NaN   6   7\n",
      "D  NaN  NaN  10  11\n",
      "     W    X  Y  Z\n",
      "A  0.0  1.0  2  3\n",
      "     W    X   Y   Z\n",
      "A  0.0  1.0   2   3\n",
      "B  NaN  NaN   6   7\n",
      "D  NaN  NaN  10  11\n"
     ]
    }
   ],
   "source": [
    "t2 = t1.dropna(axis=0)  #how默认为any,表示当前方向上只要有nan就删掉\n",
    "print(t2)\n"
   ]
  },
  {
   "cell_type": "code",
   "execution_count": 36,
   "metadata": {},
   "outputs": [
    {
     "name": "stdout",
     "output_type": "stream",
     "text": [
      "     W    X   Y   Z\n",
      "A  0.0  1.0   2   3\n",
      "B  NaN  NaN   6   7\n",
      "D  NaN  NaN  10  11\n",
      "     W    X   Y   Z\n",
      "A  0.0  1.0   2   3\n",
      "B  NaN  NaN   6   7\n",
      "D  NaN  NaN  10  11\n"
     ]
    }
   ],
   "source": [
    "t3 = t1.dropna(axis=0,how='all')  #how为all时表示，当前方向上，全为nan才删除\n",
    "print(t3)\n"
   ]
  },
  {
   "cell_type": "code",
   "execution_count": 45,
   "metadata": {},
   "outputs": [
    {
     "name": "stdout",
     "output_type": "stream",
     "text": [
      "None\n",
      "     W    X  Y  Z\n",
      "A  0.0  1.0  2  3\n"
     ]
    }
   ],
   "source": [
    "t4 = t1.dropna(axis=0,how='any',inplace=True)  #inplace 为True,修改后影响本身数组,不返回值\n",
    "print(t4)\n",
    "print(t1)"
   ]
  },
  {
   "cell_type": "markdown",
   "metadata": {},
   "source": [
    "#### 处理方式2：填充数据，t.fillna(t.mean()),  t.fiallna(t.median()),t.fillna(0)"
   ]
  },
  {
   "cell_type": "code",
   "execution_count": 9,
   "metadata": {},
   "outputs": [
    {
     "name": "stdout",
     "output_type": "stream",
     "text": [
      "     W    X   Y   Z\n",
      "A  0.0  1.0   2   3\n",
      "B  NaN  NaN   6   7\n",
      "D  NaN  NaN  10  11\n"
     ]
    }
   ],
   "source": [
    "t5 = pd.DataFrame(np.arange(12).reshape((3,4)),index=list('ABD'),columns=list('WXYZ'))\n",
    "t5.iloc[1:,:2] = np.nan\n",
    "print(t5)"
   ]
  },
  {
   "cell_type": "code",
   "execution_count": 10,
   "metadata": {},
   "outputs": [
    {
     "name": "stdout",
     "output_type": "stream",
     "text": [
      "     W    X   Y   Z\n",
      "A  0.0  1.0   2   3\n",
      "B  0.0  0.0   6   7\n",
      "D  0.0  0.0  10  11\n"
     ]
    }
   ],
   "source": [
    "t6 = t5.fillna(0)\n",
    "print(t6)"
   ]
  },
  {
   "cell_type": "code",
   "execution_count": 54,
   "metadata": {},
   "outputs": [
    {
     "name": "stdout",
     "output_type": "stream",
     "text": [
      "     W    X   Y   Z\n",
      "A  0.0  1.0   2   3\n",
      "B  0.0  1.0   6   7\n",
      "D  0.0  1.0  10  11\n"
     ]
    }
   ],
   "source": [
    "t6 = t5.fillna(t5.mean())  #将均值填充进去\n",
    "print(t6)"
   ]
  }
 ],
 "metadata": {
  "kernelspec": {
   "display_name": "Python 3",
   "language": "python",
   "name": "python3"
  },
  "language_info": {
   "codemirror_mode": {
    "name": "ipython",
    "version": 3
   },
   "file_extension": ".py",
   "mimetype": "text/x-python",
   "name": "python",
   "nbconvert_exporter": "python",
   "pygments_lexer": "ipython3",
   "version": "3.7.4"
  }
 },
 "nbformat": 4,
 "nbformat_minor": 2
}
